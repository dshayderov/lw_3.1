{
 "cells": [
  {
   "cell_type": "markdown",
   "metadata": {},
   "source": [
    "# Лабораторная работа 3.1"
   ]
  },
  {
   "cell_type": "markdown",
   "metadata": {},
   "source": [
    "## Счастливый билетик\n",
    "\n",
    "![](http://f2.mylove.ru/UNiHT7dRJ4.jpg)\n",
    "\n",
    "Билет считается счастливым, если выполнено следующее условие: сумма первых трёх цифр номера равна сумме последних трёх цифр.\n",
    "\n",
    "**Задание:**\n",
    "\n",
    "1) Определите число `ticket_number` — шестизначный номер билета;\n",
    "\n",
    "2) Напишите код, который по шестизначному номеру `ticket_number` билетика проверяет, является ли он счастливым;\n",
    "\n",
    "3) Если номер счастливый, выведите строку `Yes`, иначе — `No`.\n",
    "\n",
    "---\n",
    "\n",
    "**Пример 1:**\n",
    "\n",
    "*Input:* 123456\n",
    "\n",
    "*Output:* No\n",
    "\n",
    "\n",
    "**Пример 2:**\n",
    "\n",
    "*Input:* 123042\n",
    "\n",
    "*Output:* Yes"
   ]
  },
  {
   "cell_type": "code",
   "execution_count": 1,
   "metadata": {},
   "outputs": [
    {
     "name": "stdout",
     "output_type": "stream",
     "text": [
      "Введите номер билета: 123042\n"
     ]
    }
   ],
   "source": [
    "ticket_number = [int(i) for i in input(\"Введите номер билета: \")] "
   ]
  },
  {
   "cell_type": "code",
   "execution_count": 2,
   "metadata": {},
   "outputs": [
    {
     "name": "stdout",
     "output_type": "stream",
     "text": [
      "yes\n"
     ]
    }
   ],
   "source": [
    "if sum(ticket_number[:3]) == sum(ticket_number[3:]):\n",
    "    print(\"yes\")\n",
    "else:\n",
    "    print(\"no\")"
   ]
  },
  {
   "cell_type": "markdown",
   "metadata": {},
   "source": [
    "## Пароль\n",
    "\n",
    "![](http://forum.ixbt.com/post.cgi?id=attach:77:14138:1341:1)\n",
    "\n",
    "Пусть пароль может содержать только латинские буквы, знаки препинания и цифры.\n",
    "\n",
    "Пароль считается надёжным, если удовлетворяет следующим условиям:\n",
    "- содержит буквы в разных регистрах;\n",
    "- содержит цифры;\n",
    "- содержит не менее `4` уникальных символов;\n",
    "- не содержит ваше имя латинницей, записанное буквами любых регистров (anna, iVan, ...).\n",
    "\n",
    "Иначе пароль считается слабым.\n",
    "\n",
    "**Задание:**\n",
    "\n",
    "1) Определите строку `password` — придуманный вами пароль;\n",
    "\n",
    "2) Напишите код, который по паролю `password` проверяет, является ли он надёжным;\n",
    "\n",
    "3) Если пароль надёжный, выведите строку `strong`, иначе — `weak`.\n",
    "\n",
    "\n",
    "---\n",
    "\n",
    "Пусть имя пользоватея -- Андрей.\n",
    "\n",
    "**Пример 1:**\n",
    "\n",
    "*Input:* Aandrei123\n",
    "\n",
    "*Output:* weak\n",
    "\n",
    "\n",
    "**Пример 2:**\n",
    "\n",
    "*Input:* an12dRei\n",
    "\n",
    "*Output:* strong"
   ]
  },
  {
   "cell_type": "code",
   "execution_count": 3,
   "metadata": {},
   "outputs": [
    {
     "name": "stdout",
     "output_type": "stream",
     "text": [
      "Введите ваше имя: Dmitry\n",
      "Введите пароль: Dmi123try\n"
     ]
    }
   ],
   "source": [
    "name = input(\"Введите ваше имя: \")\n",
    "password = input(\"Введите пароль: \")"
   ]
  },
  {
   "cell_type": "code",
   "execution_count": 4,
   "metadata": {},
   "outputs": [
    {
     "name": "stdout",
     "output_type": "stream",
     "text": [
      "strong\n"
     ]
    }
   ],
   "source": [
    "unic = set(password)\n",
    "if password.isalpha() or password.isdigit():\n",
    "    print(\"weak\")\n",
    "    exit(-1)\n",
    "if password.isupper() or password.islower():\n",
    "    print(\"weak\")\n",
    "    exit(-1)\n",
    "\n",
    "if name.lower() in password.lower():\n",
    "    print(\"weak\")\n",
    "    exit(-1)\n",
    "if len(unic) < 4:\n",
    "    print(\"weak\")\n",
    "    exit(-1)  \n",
    "else:\n",
    "    print(\"strong\")"
   ]
  },
  {
   "cell_type": "markdown",
   "metadata": {},
   "source": [
    "## Числа Фибоначчи\n",
    "Как известно, [числа Фибоначчи](https://ru.wikipedia.org/wiki/%D0%A7%D0%B8%D1%81%D0%BB%D0%B0_%D0%A4%D0%B8%D0%B1%D0%BE%D0%BD%D0%B0%D1%87%D1%87%D0%B8) — это последовательность чисел, каждое из которых равно сумме двух предыдущих (первые два числа равны $1$):\n",
    "$$\n",
    "    1, 1, 2, 3, 5, 8, 13, \\ldots\n",
    "$$\n",
    "\n",
    "**Задание:**\n",
    "\n",
    "1) Определите число `amount` — количество чисел Фибоначчи, которые надо вывести;\n",
    "\n",
    "2) Напишите код, который выводит первые `amount` чисел Фибоначчи.\n",
    "\n",
    "---\n",
    "\n",
    "**Пример 1:**\n",
    "\n",
    "*Input:* 3\n",
    "\n",
    "*Output:* 1 1 2\n",
    "\n",
    "\n",
    "**Пример 2:**\n",
    "\n",
    "*Input:* 10\n",
    "\n",
    "*Output:* 1 1 2 3 5 8 13 21 34 55\n"
   ]
  },
  {
   "cell_type": "code",
   "execution_count": 7,
   "metadata": {},
   "outputs": [
    {
     "name": "stdout",
     "output_type": "stream",
     "text": [
      "Введите количество чисел: 15\n"
     ]
    }
   ],
   "source": [
    "amount = int(input(\"Введите количество чисел: \"))"
   ]
  },
  {
   "cell_type": "code",
   "execution_count": 8,
   "metadata": {},
   "outputs": [
    {
     "name": "stdout",
     "output_type": "stream",
     "text": [
      "0 1 1 2 3 5 8 13 21 34 55 89 144 233 377\n"
     ]
    }
   ],
   "source": [
    "import math\n",
    "\n",
    "\n",
    "def fibonacci(amount):\n",
    "    phi = (1 + math.sqrt(5)) / 2\n",
    "    fib_list = [(phi**n - (1-phi)**n) / math.sqrt(5) for n in range(amount)]\n",
    "    return fib_list\n",
    "\n",
    "\n",
    "fib_list = fibonacci(amount)\n",
    "fib_str = ' '.join(str(int(fib)) for fib in fib_list)\n",
    "print(fib_str)"
   ]
  },
  {
   "cell_type": "markdown",
   "metadata": {},
   "source": [
    "## Время исследований\n",
    "\n",
    "![](https://2.bp.blogspot.com/-VOT5x12UqPY/WSh53tQ94HI/AAAAAAAAAMY/-nlcz28_Fj4UzJjbn4bBINKCnzwag1W4QCLcB/s1600/my-pic-widget.jpg)\n",
    "\n",
    "На сайте https://www.kaggle.com/ выберите любой набор данных в формате CSV и проведите для него маленькое исследование: загрузите данные из набора с использованием стандартного модуля `csv`, посмотрите средние значения и стандартные отклонения двух выбранных числовых атрибутов, найдите [методом наименьших квадратов](https://ru.wikipedia.org/wiki/%D0%9C%D0%B5%D1%82%D0%BE%D0%B4_%D0%BD%D0%B0%D0%B8%D0%BC%D0%B5%D0%BD%D1%8C%D1%88%D0%B8%D1%85_%D0%BA%D0%B2%D0%B0%D0%B4%D1%80%D0%B0%D1%82%D0%BE%D0%B2) уравнение линейной зависимости, связывающей один числовой атрибут с другим. Для оценки заданной зависимости найдите [коэффициент парной корреляции](https://ru.wikipedia.org/wiki/%D0%9A%D0%BE%D1%80%D1%80%D0%B5%D0%BB%D1%8F%D1%86%D0%B8%D1%8F), сделайте соответствующие выводы.\n",
    "\n",
    "**Результаты надо обязательно прокомментировать и пояснить!**\n",
    "\n",
    "---\n",
    "\n",
    "**Пример 1:**\n",
    "\n",
    "Пусть таблица `bikes.csv` содержит данные по арендам велосипедов за $2$ года:\n",
    "- `datetime`: дата и время аренды\n",
    "- `season`: время года\n",
    "- `temp`: температура воздуха по Цельсию\n",
    "- `windspeed`: скорость ветра \n",
    "- `registered`: число аренд\n",
    "\n",
    "Одно из направлений исследования могло бы заключаться в проверке зависимости суммарного числа аренд от температуры воздуха."
   ]
  },
  {
   "cell_type": "markdown",
   "metadata": {},
   "source": [
    "*в такой ячейке (режим Markdown) можно писать текст*"
   ]
  },
  {
   "cell_type": "code",
   "execution_count": 9,
   "metadata": {},
   "outputs": [],
   "source": [
    "import csv\n",
    "from math import sqrt\n",
    "\n",
    "\n",
    "with open('dth_to_pol.csv', 'r', newline='') as csvfile:\n",
    "    data = csv.reader(csvfile, delimiter=',')\n",
    "    afg_total_pol = []\n",
    "    afg_ozone_pol = []\n",
    "    for row in data:\n",
    "        if row[0] == \"Afghanistan\":\n",
    "            afg_total_pol.append(float(row[3]))\n",
    "            afg_ozone_pol.append(float(row[6]))"
   ]
  },
  {
   "cell_type": "markdown",
   "metadata": {},
   "source": [
    "Затем нам необходимо посчитать среднее значение коэффициентов из списка"
   ]
  },
  {
   "cell_type": "code",
   "execution_count": 10,
   "metadata": {},
   "outputs": [
    {
     "name": "stdout",
     "output_type": "stream",
     "text": [
      "Среднее значение коэффициента загрязнения воздуха в Афганистане с 1990 по 2017 год: 252.84255072458163\n",
      "Среднее значение коэффициента загрязнения воздуха озоном в Афганистане с 1990 по 2017 год: 5.797505605371072\n"
     ]
    }
   ],
   "source": [
    "mean_total = sum(afg_total_pol) / len(afg_total_pol)\n",
    "mean_ozone = sum(afg_ozone_pol) / len(afg_ozone_pol)\n",
    "print(\"Среднее значение коэффициента загрязнения воздуха в Афганистане с \"\n",
    "      f\"1990 по 2017 год: {mean_total}\"\n",
    ")\n",
    "print(\"Среднее значение коэффициента загрязнения воздуха озоном в \"\n",
    "      \"Афганистане с \"\n",
    "      f\"1990 по 2017 год: {mean_ozone}\"\n",
    ")"
   ]
  },
  {
   "cell_type": "markdown",
   "metadata": {},
   "source": [
    "Для того, чтобы посчитать стандартное отклонение выбранных величин создадим две промежуточные переменные, которые будут содержать в себе сумму квадратов разности для каждого элемента из списка, поделённую на количество элементов."
   ]
  },
  {
   "cell_type": "code",
   "execution_count": 11,
   "metadata": {},
   "outputs": [
    {
     "name": "stdout",
     "output_type": "stream",
     "text": [
      "Стандартное отклонение коэффициента общего загрязнения воздуха: 37.35656399089619\n",
      "Стандартное отклонение коэффициента загрязнения воздуха озоном: 0.09717587256065482\n"
     ]
    }
   ],
   "source": [
    "var1 = sum((elem-mean_total)**2 for elem in afg_total_pol) / len(afg_total_pol)\n",
    "st_dev_total = sqrt(var1)\n",
    "var2 = sum((elem-mean_ozone)**2 for elem in afg_ozone_pol) / len(afg_ozone_pol)\n",
    "st_dev_ozone = sqrt(var2)\n",
    "print(\"Стандартное отклонение коэффициента общего загрязнения воздуха: \"\n",
    "      f\"{st_dev_total}\"\n",
    ")\n",
    "print(\"Стандартное отклонение коэффициента загрязнения воздуха озоном: \" \n",
    "      f\"{st_dev_ozone}\"\n",
    ")"
   ]
  },
  {
   "cell_type": "markdown",
   "metadata": {},
   "source": [
    "Для того, чтобы найти коэффициенты уравнения линейной зависимости посчитает суммму произведений элементов из двух списков, а также сумму квадратов элементов из списка коэффициентов общего загрязнения воздуха. Затем посчитает по формуле коэффициент k и b. После выводим их на экран, а также значения функции для каждой точки спсика коэффициентов общего загрязнения воздуха"
   ]
  },
  {
   "cell_type": "code",
   "execution_count": 12,
   "metadata": {},
   "outputs": [
    {
     "name": "stdout",
     "output_type": "stream",
     "text": [
      "Уравнение линейной зависимости: y = -0.00048149182135542336x + 5.919247225635601\n",
      "Значения функции на кривой методом наименьших квадратов: \n",
      "5.77505135072677\n",
      "5.778999266912121\n",
      "5.7849287958966285\n",
      "5.785011728466223\n",
      "5.780980626729237\n",
      "5.780570732469591\n",
      "5.78123116360491\n",
      "5.781325119009701\n",
      "5.781412872176521\n",
      "5.781234327095285\n",
      "5.782606457244574\n",
      "5.783522615764744\n",
      "5.787637650720681\n",
      "5.788617094747192\n",
      "5.789676076564802\n",
      "5.793801344799917\n",
      "5.7963822528383595\n",
      "5.800549250447244\n",
      "5.804888299644632\n",
      "5.809102509246886\n",
      "5.812584474584094\n",
      "5.816047786447732\n",
      "5.819391261674628\n",
      "5.822512803044716\n",
      "5.825145928668351\n",
      "5.826896555523149\n",
      "5.829367653181076\n",
      "5.830680952160238\n"
     ]
    }
   ],
   "source": [
    "sum_ab = 0\n",
    "sum_square = 0\n",
    "for idx, elem in enumerate(afg_total_pol):\n",
    "    sum_ab += elem * afg_ozone_pol[idx]\n",
    "    sum_square += elem**2\n",
    "size = len(afg_total_pol)\n",
    "k_lin = (size * sum_ab - sum(afg_total_pol) * sum(afg_ozone_pol))/(size * sum_square - sum(afg_total_pol)**2)\n",
    "b_lin = mean_ozone - mean_total * k_lin\n",
    "func_val = []\n",
    "for elem in afg_total_pol:\n",
    "    func_val.append(k_lin * elem + b_lin)\n",
    "print(f\"Уравнение линейной зависимости: y = {k_lin}x + {b_lin}\")\n",
    "print(\"Значения функции на кривой методом наименьших квадратов: \")\n",
    "for val in func_val:\n",
    "    print(val)"
   ]
  },
  {
   "cell_type": "markdown",
   "metadata": {},
   "source": [
    "Для рассчёта коэффициента парной корреляции разделим формулу на числитель и знаменатель. Для числителя посчитаем произведение разностей элементов каждого из списков со средним значением этих списков. В знаменателе считаем произведение средних квадратических отклонений."
   ]
  },
  {
   "cell_type": "code",
   "execution_count": 13,
   "metadata": {},
   "outputs": [
    {
     "name": "stdout",
     "output_type": "stream",
     "text": [
      "Коэффициент парной корреляции: -0.185096151561045\n"
     ]
    }
   ],
   "source": [
    "cor_chisl = 0\n",
    "for idx, elem in enumerate(afg_total_pol):\n",
    "    cor_chisl += (elem - mean_total)*(afg_ozone_pol[idx] - mean_ozone)\n",
    "sqr_diff_total = sum((elem-mean_total)**2 for elem in afg_total_pol)\n",
    "sqr_diff_ozone = sum((elem-mean_ozone)**2 for elem in afg_ozone_pol)\n",
    "r_xy = cor_chisl / sqrt(sqr_diff_total * sqr_diff_ozone)\n",
    "print(f\"Коэффициент парной корреляции: {r_xy}\")"
   ]
  },
  {
   "cell_type": "markdown",
   "metadata": {},
   "source": [
    "Значение -0.185 можно рассматривать как почти полное отсутствие корреляции."
   ]
  },
  {
   "cell_type": "code",
   "execution_count": null,
   "metadata": {},
   "outputs": [],
   "source": []
  }
 ],
 "metadata": {
  "anaconda-cloud": {},
  "kernelspec": {
   "display_name": "Python 3 (ipykernel)",
   "language": "python",
   "name": "python3"
  },
  "language_info": {
   "codemirror_mode": {
    "name": "ipython",
    "version": 3
   },
   "file_extension": ".py",
   "mimetype": "text/x-python",
   "name": "python",
   "nbconvert_exporter": "python",
   "pygments_lexer": "ipython3",
   "version": "3.9.7"
  }
 },
 "nbformat": 4,
 "nbformat_minor": 1
}
