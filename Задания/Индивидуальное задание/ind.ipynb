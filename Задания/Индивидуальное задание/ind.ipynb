{
 "cells": [
  {
   "cell_type": "markdown",
   "id": "4dc4e86b",
   "metadata": {},
   "source": [
    "# Индивидуальное задание"
   ]
  },
  {
   "cell_type": "markdown",
   "id": "a44bc0d2",
   "metadata": {},
   "source": [
    ">Создать ноутбук, в котором выполнить решение вычислительной задачи (например, задачи из области физики, экономики, математики, статистики и т. д.).\n",
    "\n",
    "В тот момент, когда мимо станции со скоростью $v \\frac{м}{с}$ \n",
    "проходил товарный состав, от платформы в том же направлении \n",
    "отошёл пассажирский поезд. Через какое время пассажирский \n",
    "поезд догнал товарный, если пассажирский двигался с \n",
    "ускорением $a \\frac{м}{с^2}$ , а товарный – равномерно?"
   ]
  },
  {
   "cell_type": "code",
   "execution_count": 1,
   "id": "e58de39c",
   "metadata": {},
   "outputs": [],
   "source": [
    "from matplotlib import pylab as plt\n",
    "%matplotlib inline"
   ]
  },
  {
   "cell_type": "code",
   "execution_count": 2,
   "id": "6b27663d",
   "metadata": {},
   "outputs": [
    {
     "name": "stdout",
     "output_type": "stream",
     "text": [
      "Введите скорость товарного состава: 7\n",
      "Введите ускорение пассажирского поезда: 2\n",
      "Место встречи поездов: 49.0\n",
      "Время встречи поездов: 7.0\n"
     ]
    }
   ],
   "source": [
    "v = float(input(\"Введите скорость товарного состава: \"))\n",
    "a = float(input(\"Введите ускорение пассажирского поезда: \"))\n",
    "t = (2 * v) / a\n",
    "z = v * t\n",
    "print(f\"Место встречи поездов: {z}\")\n",
    "print(f\"Время встречи поездов: {t}\")"
   ]
  },
  {
   "cell_type": "code",
   "execution_count": 3,
   "id": "280f47f0",
   "metadata": {},
   "outputs": [
    {
     "data": {
      "text/plain": [
       "[<matplotlib.lines.Line2D at 0x14913303e20>]"
      ]
     },
     "execution_count": 3,
     "metadata": {},
     "output_type": "execute_result"
    },
    {
     "data": {
      "image/png": "[encoded data removed]",
      "text/plain": [
       "<Figure size 432x288 with 1 Axes>"
      ]
     },
     "metadata": {
      "needs_background": "light"
     },
     "output_type": "display_data"
    }
   ],
   "source": [
    "x = [i for i in range(int(t) + 5)]\n",
    "y1 = [(v*i) for i in range(int(t) + 5)]\n",
    "y2 = [(a*pow(i, 2) / 2) for i in range(int(t) + 5)]\n",
    "plt.plot(x, y1)\n",
    "plt.plot(x, y2)"
   ]
  },
  {
   "cell_type": "code",
   "execution_count": null,
   "id": "268c61b3",
   "metadata": {},
   "outputs": [],
   "source": []
  }
 ],
 "metadata": {
  "kernelspec": {
   "display_name": "Python 3 (ipykernel)",
   "language": "python",
   "name": "python3"
  },
  "language_info": {
   "codemirror_mode": {
    "name": "ipython",
    "version": 3
   },
   "file_extension": ".py",
   "mimetype": "text/x-python",
   "name": "python",
   "nbconvert_exporter": "python",
   "pygments_lexer": "ipython3",
   "version": "3.9.7"
  }
 },
 "nbformat": 4,
 "nbformat_minor": 5
}
